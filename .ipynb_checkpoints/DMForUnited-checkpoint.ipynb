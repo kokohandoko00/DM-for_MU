{
 "cells": [
  {
   "cell_type": "code",
   "execution_count": null,
   "metadata": {
    "id": "xn-5aqDaU8CM"
   },
   "outputs": [],
   "source": [
    "import pandas as pd\n",
    "import seaborn as sns\n",
    "import matplotlib.pyplot as plt\n",
    "from google.colab import drive\n",
    "% matplotlib inline\n",
    "drive.mount('/content/drive')"
   ]
  },
  {
   "cell_type": "code",
   "execution_count": null,
   "metadata": {
    "id": "-ET9rnbJIVsh"
   },
   "outputs": [],
   "source": [
    "path = \"/content/drive/MyDrive/Tugas Rekayasa Data/DM_For_United.xlsx\"\n",
    "df_DM_United = pd.read_excel(path)\n",
    "df_DM_United"
   ]
  },
  {
   "cell_type": "code",
   "execution_count": null,
   "metadata": {
    "id": "PWQ-YM5yRcKF"
   },
   "outputs": [],
   "source": [
    "df_DM_United.dtypes"
   ]
  },
  {
   "cell_type": "code",
   "execution_count": null,
   "metadata": {
    "id": "LNvzGPpaaSAy"
   },
   "outputs": [],
   "source": [
    "df_DM_United[\"Blocks\"].describe()"
   ]
  },
  {
   "cell_type": "code",
   "execution_count": null,
   "metadata": {
    "id": "iDyQ-GR-avhu"
   },
   "outputs": [],
   "source": [
    "df_DM_United[\"Tkl+Int\"].describe()"
   ]
  },
  {
   "cell_type": "code",
   "execution_count": null,
   "metadata": {
    "id": "RWHCC7ZJw0e9"
   },
   "outputs": [],
   "source": [
    "df_defensive=df_DM_United[[\"Blocks\",\"Tkl+Int\"]]\n",
    "sns.set_style(\"darkgrid\")\n",
    "fig=plt.figure(figsize=(6, 6), dpi=60)\n",
    "defensive=sns.boxplot(x='variable',y='value',data=pd.melt(df_defensive),palette=\"RdBu\")\n",
    "defensive.set_xlabel(\"\")\n",
    "defensive.set_ylabel(\"Jumlah\")\n",
    "defensive.set_title(\"Distribusi Blocks vs Tackle+Intercept\")\n",
    "plt.show()"
   ]
  },
  {
   "cell_type": "code",
   "execution_count": null,
   "metadata": {
    "id": "XRclm1Wflnxd"
   },
   "outputs": [],
   "source": [
    "color={\"Declan Rice\":\"red\",\n",
    "       \"Ruben Neves\":\"green\",\n",
    "       \"Yves Bissouma\":\"blue\",\n",
    "       \"Kalvin Phillips\":\"cyan\",\n",
    "       \"Aurélien Tchouaméni\":\"magenta\",\n",
    "       \"Matić\":\"yellow\",\n",
    "       \"Scott McTominay\":\"black\",\n",
    "       \"Wilfred Ndidi\":\"#6DD3CE\",\n",
    "       \"Casemiro\":\"#0077b6\",\n",
    "       \"Kimmich\":\"#D282A6\",\n",
    "       \"Martín Zubimendi\":\"#BBB6DF\",\n",
    "       \"Uroš Račić\":\"#560bad\",\n",
    "       \"Xaver Schlager\":\"#9B9987\",\n",
    "       \"Maxence Caqueret\":\"#A13D63\",\n",
    "       \"Tyler Adams\":\"#C8E9A0\",\n",
    "       \"Brozović\":\"#F7D4BC\",\n",
    "       \"Kanté\":\"#FF8E72\"}\n",
    "sns.set_style(\"darkgrid\")\n",
    "fig=plt.figure(figsize=(8, 8), dpi=80)\n",
    "ax=sns.scatterplot(x=\"Blocks\",y=\"Tkl+Int\",data=df_DM_United,s=200,hue=\"Name\",palette=color)\n",
    "ax.set_title(\"Statistik Aksi Defensif\",fontsize=13)\n",
    "plt.legend(bbox_to_anchor=(1.05, 1), loc='upper left',prop={'size':11})\n",
    "plt.show()\n"
   ]
  },
  {
   "cell_type": "code",
   "execution_count": null,
   "metadata": {
    "id": "yweLrb60aep-"
   },
   "outputs": [],
   "source": [
    "df_DM_United[\"Prog\"].describe()"
   ]
  },
  {
   "cell_type": "code",
   "execution_count": null,
   "metadata": {
    "id": "0YMjPibha7J9"
   },
   "outputs": [],
   "source": [
    "df_DM_United[\"Cmp\"].describe()"
   ]
  },
  {
   "cell_type": "code",
   "execution_count": null,
   "metadata": {
    "id": "WNcCxcplPqp3"
   },
   "outputs": [],
   "source": [
    "sns.set_style(\"darkgrid\")\n",
    "fig=plt.figure(figsize=(3, 6), dpi=60)\n",
    "defensive=sns.boxplot(y='Prog',data=df_DM_United,color='#FF8E72')\n",
    "defensive.set_xlabel(\"Umpan progresi\")\n",
    "defensive.set_ylabel(\"Jumlah\")\n",
    "defensive.set_title(\"Distribusi Umpan Progresi\")\n",
    "plt.show()"
   ]
  },
  {
   "cell_type": "code",
   "execution_count": null,
   "metadata": {
    "id": "HkowJ1olSk7k"
   },
   "outputs": [],
   "source": [
    "sns.set_style(\"darkgrid\")\n",
    "fig=plt.figure(figsize=(3, 6), dpi=60)\n",
    "defensive=sns.boxplot(y='Cmp',data=df_DM_United,color='skyblue')\n",
    "defensive.set_xlabel(\"Umpan Berhasil\")\n",
    "defensive.set_ylabel(\"Jumlah\")\n",
    "defensive.set_title(\"Distribusi Umpan Berhasil\")\n",
    "plt.show()"
   ]
  },
  {
   "cell_type": "code",
   "execution_count": null,
   "metadata": {
    "id": "EAPVNZD8nLcE"
   },
   "outputs": [],
   "source": [
    "color={\"Declan Rice\":\"red\",\n",
    "       \"Ruben Neves\":\"green\",\n",
    "       \"Yves Bissouma\":\"blue\",\n",
    "       \"Kalvin Phillips\":\"cyan\",\n",
    "       \"Aurélien Tchouaméni\":\"magenta\",\n",
    "       \"Matić\":\"yellow\",\n",
    "       \"Scott McTominay\":\"black\",\n",
    "       \"Wilfred Ndidi\":\"#6DD3CE\",\n",
    "       \"Casemiro\":\"#0077b6\",\n",
    "       \"Kimmich\":\"#D282A6\",\n",
    "       \"Martín Zubimendi\":\"#BBB6DF\",\n",
    "       \"Uroš Račić\":\"#560bad\",\n",
    "       \"Xaver Schlager\":\"#9B9987\",\n",
    "       \"Maxence Caqueret\":\"#A13D63\",\n",
    "       \"Tyler Adams\":\"#C8E9A0\",\n",
    "       \"Brozović\":\"#F7D4BC\",\n",
    "       \"Kanté\":\"#FF8E72\"}\n",
    "sns.set_style(\"darkgrid\")\n",
    "plt.figure(figsize=(8, 8), dpi=80)\n",
    "ax=sns.scatterplot(x=\"Cmp\",y=\"Prog\",data=df_DM_United,s=200,hue=\"Name\",palette=color)\n",
    "ax.set_title(\"Statistik Umpan\",fontsize=13)\n",
    "ax.set_xlabel(\"Umpan Berhasil\")\n",
    "ax.set_ylabel(\"Umpan Progresi\")\n",
    "plt.legend(bbox_to_anchor=(1.05, 1), loc='upper left',prop={'size':11})\n",
    "plt.show()"
   ]
  },
  {
   "cell_type": "code",
   "execution_count": null,
   "metadata": {
    "id": "r_SA4NdgbOaB"
   },
   "outputs": [],
   "source": [
    "df_DM_United[\"Aerial Duels Won\"].describe()"
   ]
  },
  {
   "cell_type": "code",
   "execution_count": null,
   "metadata": {
    "id": "phVG7o0obhAy"
   },
   "outputs": [],
   "source": [
    "df_DM_United[\"Aerial Duels Won (%)\"].describe()"
   ]
  },
  {
   "cell_type": "code",
   "execution_count": null,
   "metadata": {
    "id": "7U50cpVwU6kC"
   },
   "outputs": [],
   "source": [
    "df_aerial=df_DM_United[[\"Aerial Duels Won\",\"Aerial Duels Won (%)\"]]\n",
    "sns.set_style(\"darkgrid\")\n",
    "fig=plt.figure(figsize=(6, 6), dpi=60)\n",
    "defensive=sns.boxplot(x='variable',y='value',data=pd.melt(df_aerial),palette=\"RdBu\")\n",
    "defensive.set_xlabel(\"\")\n",
    "defensive.set_ylabel(\"Jumlah\")\n",
    "defensive.set_title(\"Distribusi Duel Bola Udara\")\n",
    "plt.show()"
   ]
  },
  {
   "cell_type": "code",
   "execution_count": null,
   "metadata": {
    "id": "Oc8fxgJG-GVe"
   },
   "outputs": [],
   "source": [
    "color={\"Declan Rice\":\"red\",\n",
    "       \"Ruben Neves\":\"green\",\n",
    "       \"Yves Bissouma\":\"blue\",\n",
    "       \"Kalvin Phillips\":\"cyan\",\n",
    "       \"Aurélien Tchouaméni\":\"magenta\",\n",
    "       \"Matić\":\"yellow\",\n",
    "       \"Scott McTominay\":\"black\",\n",
    "       \"Wilfred Ndidi\":\"#6DD3CE\",\n",
    "       \"Casemiro\":\"#0077b6\",\n",
    "       \"Kimmich\":\"#D282A6\",\n",
    "       \"Martín Zubimendi\":\"#BBB6DF\",\n",
    "       \"Uroš Račić\":\"#560bad\",\n",
    "       \"Xaver Schlager\":\"#9B9987\",\n",
    "       \"Maxence Caqueret\":\"#A13D63\",\n",
    "       \"Tyler Adams\":\"#C8E9A0\",\n",
    "       \"Brozović\":\"#F7D4BC\",\n",
    "       \"Kanté\":\"#FF8E72\"}\n",
    "sns.set_style(\"darkgrid\")\n",
    "plt.figure(figsize=(8, 8), dpi=80)\n",
    "ax=sns.scatterplot(x=\"Aerial Duels Won\",y=\"Aerial Duels Won (%)\",data=df_DM_United,s=200,hue=\"Name\",palette=color)\n",
    "ax.set_title(\"Statistik Duel Bola Udara\",fontsize=10)\n",
    "ax.set_xlabel(\"Jumlah Duel Udara Berhasil\")\n",
    "ax.set_ylabel(\"Persentase (%)\")\n",
    "plt.legend(bbox_to_anchor=(1.05, 1), loc='upper left',prop={'size':11})\n",
    "plt.show()"
   ]
  },
  {
   "cell_type": "code",
   "execution_count": null,
   "metadata": {
    "id": "oyBfmmsrMRm9"
   },
   "outputs": [],
   "source": []
  }
 ],
 "metadata": {
  "colab": {
   "name": "DMForUnited.ipynb",
   "provenance": []
  },
  "kernelspec": {
   "display_name": "Python 3 (ipykernel)",
   "language": "python",
   "name": "python3"
  },
  "language_info": {
   "codemirror_mode": {
    "name": "ipython",
    "version": 3
   },
   "file_extension": ".py",
   "mimetype": "text/x-python",
   "name": "python",
   "nbconvert_exporter": "python",
   "pygments_lexer": "ipython3",
   "version": "3.10.1"
  }
 },
 "nbformat": 4,
 "nbformat_minor": 1
}
