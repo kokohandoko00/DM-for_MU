{
  "nbformat": 4,
  "nbformat_minor": 0,
  "metadata": {
    "colab": {
      "name": "DMForUnited.ipynb",
      "provenance": []
    },
    "kernelspec": {
      "name": "python3",
      "display_name": "Python 3"
    },
    "language_info": {
      "name": "python"
    }
  },
  "cells": [
    {
      "cell_type": "code",
      "metadata": {
        "id": "xn-5aqDaU8CM"
      },
      "source": [
        "import pandas as pd\n",
        "import seaborn as sns\n",
        "import matplotlib.pyplot as plt\n",
        "from google.colab import drive\n",
        "% matplotlib inline\n",
        "drive.mount('/content/drive')"
      ],
      "execution_count": null,
      "outputs": []
    },
    {
      "cell_type": "code",
      "metadata": {
        "id": "-ET9rnbJIVsh"
      },
      "source": [
        "path = \"/content/drive/MyDrive/Tugas Rekayasa Data/DM_For_United.xlsx\"\n",
        "df_DM_United = pd.read_excel(path)\n",
        "df_DM_United"
      ],
      "execution_count": null,
      "outputs": []
    },
    {
      "cell_type": "code",
      "metadata": {
        "id": "PWQ-YM5yRcKF"
      },
      "source": [
        "df_DM_United.dtypes"
      ],
      "execution_count": null,
      "outputs": []
    },
    {
      "cell_type": "code",
      "metadata": {
        "id": "LNvzGPpaaSAy"
      },
      "source": [
        "df_DM_United[\"Blocks\"].describe()"
      ],
      "execution_count": null,
      "outputs": []
    },
    {
      "cell_type": "code",
      "metadata": {
        "id": "iDyQ-GR-avhu"
      },
      "source": [
        "df_DM_United[\"Tkl+Int\"].describe()"
      ],
      "execution_count": null,
      "outputs": []
    },
    {
      "cell_type": "code",
      "metadata": {
        "id": "RWHCC7ZJw0e9"
      },
      "source": [
        "df_defensive=df_DM_United[[\"Blocks\",\"Tkl+Int\"]]\n",
        "sns.set_style(\"darkgrid\")\n",
        "fig=plt.figure(figsize=(6, 6), dpi=60)\n",
        "defensive=sns.boxplot(x='variable',y='value',data=pd.melt(df_defensive),palette=\"RdBu\")\n",
        "defensive.set_xlabel(\"\")\n",
        "defensive.set_ylabel(\"Jumlah\")\n",
        "defensive.set_title(\"Distribusi Blocks vs Tackle+Intercept\")\n",
        "plt.show()"
      ],
      "execution_count": null,
      "outputs": []
    },
    {
      "cell_type": "code",
      "metadata": {
        "id": "XRclm1Wflnxd"
      },
      "source": [
        "color={\"Declan Rice\":\"red\",\n",
        "       \"Ruben Neves\":\"green\",\n",
        "       \"Yves Bissouma\":\"blue\",\n",
        "       \"Kalvin Phillips\":\"cyan\",\n",
        "       \"Aurélien Tchouaméni\":\"magenta\",\n",
        "       \"Matić\":\"yellow\",\n",
        "       \"Scott McTominay\":\"black\",\n",
        "       \"Wilfred Ndidi\":\"#6DD3CE\",\n",
        "       \"Casemiro\":\"#0077b6\",\n",
        "       \"Kimmich\":\"#D282A6\",\n",
        "       \"Martín Zubimendi\":\"#BBB6DF\",\n",
        "       \"Uroš Račić\":\"#560bad\",\n",
        "       \"Xaver Schlager\":\"#9B9987\",\n",
        "       \"Maxence Caqueret\":\"#A13D63\",\n",
        "       \"Tyler Adams\":\"#C8E9A0\",\n",
        "       \"Brozović\":\"#F7D4BC\",\n",
        "       \"Kanté\":\"#FF8E72\"}\n",
        "sns.set_style(\"darkgrid\")\n",
        "fig=plt.figure(figsize=(8, 8), dpi=80)\n",
        "ax=sns.scatterplot(x=\"Blocks\",y=\"Tkl+Int\",data=df_DM_United,s=200,hue=\"Name\",palette=color)\n",
        "ax.set_title(\"Statistik Aksi Defensif\",fontsize=13)\n",
        "plt.legend(bbox_to_anchor=(1.05, 1), loc='upper left',prop={'size':11})\n",
        "plt.show()\n"
      ],
      "execution_count": null,
      "outputs": []
    },
    {
      "cell_type": "code",
      "metadata": {
        "id": "yweLrb60aep-"
      },
      "source": [
        "df_DM_United[\"Prog\"].describe()"
      ],
      "execution_count": null,
      "outputs": []
    },
    {
      "cell_type": "code",
      "metadata": {
        "id": "0YMjPibha7J9"
      },
      "source": [
        "df_DM_United[\"Cmp\"].describe()"
      ],
      "execution_count": null,
      "outputs": []
    },
    {
      "cell_type": "code",
      "metadata": {
        "id": "WNcCxcplPqp3"
      },
      "source": [
        "sns.set_style(\"darkgrid\")\n",
        "fig=plt.figure(figsize=(3, 6), dpi=60)\n",
        "defensive=sns.boxplot(y='Prog',data=df_DM_United,color='#FF8E72')\n",
        "defensive.set_xlabel(\"Umpan progresi\")\n",
        "defensive.set_ylabel(\"Jumlah\")\n",
        "defensive.set_title(\"Distribusi Umpan Progresi\")\n",
        "plt.show()"
      ],
      "execution_count": null,
      "outputs": []
    },
    {
      "cell_type": "code",
      "metadata": {
        "id": "HkowJ1olSk7k"
      },
      "source": [
        "sns.set_style(\"darkgrid\")\n",
        "fig=plt.figure(figsize=(3, 6), dpi=60)\n",
        "defensive=sns.boxplot(y='Cmp',data=df_DM_United,color='skyblue')\n",
        "defensive.set_xlabel(\"Umpan Berhasil\")\n",
        "defensive.set_ylabel(\"Jumlah\")\n",
        "defensive.set_title(\"Distribusi Umpan Berhasil\")\n",
        "plt.show()"
      ],
      "execution_count": null,
      "outputs": []
    },
    {
      "cell_type": "code",
      "metadata": {
        "id": "EAPVNZD8nLcE"
      },
      "source": [
        "color={\"Declan Rice\":\"red\",\n",
        "       \"Ruben Neves\":\"green\",\n",
        "       \"Yves Bissouma\":\"blue\",\n",
        "       \"Kalvin Phillips\":\"cyan\",\n",
        "       \"Aurélien Tchouaméni\":\"magenta\",\n",
        "       \"Matić\":\"yellow\",\n",
        "       \"Scott McTominay\":\"black\",\n",
        "       \"Wilfred Ndidi\":\"#6DD3CE\",\n",
        "       \"Casemiro\":\"#0077b6\",\n",
        "       \"Kimmich\":\"#D282A6\",\n",
        "       \"Martín Zubimendi\":\"#BBB6DF\",\n",
        "       \"Uroš Račić\":\"#560bad\",\n",
        "       \"Xaver Schlager\":\"#9B9987\",\n",
        "       \"Maxence Caqueret\":\"#A13D63\",\n",
        "       \"Tyler Adams\":\"#C8E9A0\",\n",
        "       \"Brozović\":\"#F7D4BC\",\n",
        "       \"Kanté\":\"#FF8E72\"}\n",
        "sns.set_style(\"darkgrid\")\n",
        "plt.figure(figsize=(8, 8), dpi=80)\n",
        "ax=sns.scatterplot(x=\"Cmp\",y=\"Prog\",data=df_DM_United,s=200,hue=\"Name\",palette=color)\n",
        "ax.set_title(\"Statistik Umpan\",fontsize=13)\n",
        "ax.set_xlabel(\"Umpan Berhasil\")\n",
        "ax.set_ylabel(\"Umpan Progresi\")\n",
        "plt.legend(bbox_to_anchor=(1.05, 1), loc='upper left',prop={'size':11})\n",
        "plt.show()"
      ],
      "execution_count": null,
      "outputs": []
    },
    {
      "cell_type": "code",
      "metadata": {
        "id": "r_SA4NdgbOaB"
      },
      "source": [
        "df_DM_United[\"Aerial Duels Won\"].describe()"
      ],
      "execution_count": null,
      "outputs": []
    },
    {
      "cell_type": "code",
      "metadata": {
        "id": "phVG7o0obhAy"
      },
      "source": [
        "df_DM_United[\"Aerial Duels Won (%)\"].describe()"
      ],
      "execution_count": null,
      "outputs": []
    },
    {
      "cell_type": "code",
      "metadata": {
        "id": "7U50cpVwU6kC"
      },
      "source": [
        "df_aerial=df_DM_United[[\"Aerial Duels Won\",\"Aerial Duels Won (%)\"]]\n",
        "sns.set_style(\"darkgrid\")\n",
        "fig=plt.figure(figsize=(6, 6), dpi=60)\n",
        "defensive=sns.boxplot(x='variable',y='value',data=pd.melt(df_aerial),palette=\"RdBu\")\n",
        "defensive.set_xlabel(\"\")\n",
        "defensive.set_ylabel(\"Jumlah\")\n",
        "defensive.set_title(\"Distribusi Duel Bola Udara\")\n",
        "plt.show()"
      ],
      "execution_count": null,
      "outputs": []
    },
    {
      "cell_type": "code",
      "metadata": {
        "id": "Oc8fxgJG-GVe"
      },
      "source": [
        "color={\"Declan Rice\":\"red\",\n",
        "       \"Ruben Neves\":\"green\",\n",
        "       \"Yves Bissouma\":\"blue\",\n",
        "       \"Kalvin Phillips\":\"cyan\",\n",
        "       \"Aurélien Tchouaméni\":\"magenta\",\n",
        "       \"Matić\":\"yellow\",\n",
        "       \"Scott McTominay\":\"black\",\n",
        "       \"Wilfred Ndidi\":\"#6DD3CE\",\n",
        "       \"Casemiro\":\"#0077b6\",\n",
        "       \"Kimmich\":\"#D282A6\",\n",
        "       \"Martín Zubimendi\":\"#BBB6DF\",\n",
        "       \"Uroš Račić\":\"#560bad\",\n",
        "       \"Xaver Schlager\":\"#9B9987\",\n",
        "       \"Maxence Caqueret\":\"#A13D63\",\n",
        "       \"Tyler Adams\":\"#C8E9A0\",\n",
        "       \"Brozović\":\"#F7D4BC\",\n",
        "       \"Kanté\":\"#FF8E72\"}\n",
        "sns.set_style(\"darkgrid\")\n",
        "plt.figure(figsize=(8, 8), dpi=80)\n",
        "ax=sns.scatterplot(x=\"Aerial Duels Won\",y=\"Aerial Duels Won (%)\",data=df_DM_United,s=200,hue=\"Name\",palette=color)\n",
        "ax.set_title(\"Statistik Duel Bola Udara\",fontsize=10)\n",
        "ax.set_xlabel(\"Jumlah Duel Udara Berhasil\")\n",
        "ax.set_ylabel(\"Persentase (%)\")\n",
        "plt.legend(bbox_to_anchor=(1.05, 1), loc='upper left',prop={'size':11})\n",
        "plt.show()"
      ],
      "execution_count": null,
      "outputs": []
    },
    {
      "cell_type": "code",
      "metadata": {
        "id": "oyBfmmsrMRm9"
      },
      "source": [
        ""
      ],
      "execution_count": null,
      "outputs": []
    }
  ]
}